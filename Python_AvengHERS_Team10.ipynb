{
 "cells": [
  {
   "cell_type": "code",
   "execution_count": 62,
   "id": "a78bf0bc",
   "metadata": {},
   "outputs": [],
   "source": [
    "import pandas as pd\n",
    "import seaborn as sns\n",
    "import numpy as np\n",
    "import matplotlib.pyplot as plt"
   ]
  },
  {
   "cell_type": "code",
   "execution_count": null,
   "id": "c591a37c",
   "metadata": {},
   "outputs": [],
   "source": []
  },
  {
   "cell_type": "markdown",
   "id": "df5f8caf",
   "metadata": {},
   "source": [
    "## Q 31. Find the count of White Spanish Male."
   ]
  },
  {
   "cell_type": "code",
   "execution_count": 57,
   "id": "514cf194",
   "metadata": {},
   "outputs": [
    {
     "name": "stdout",
     "output_type": "stream",
     "text": [
      "15\n"
     ]
    }
   ],
   "source": [
    "\n",
    "workbook_url = 'HospitalDatabase.xlsx'\n",
    "df= pd.read_excel(workbook_url,sheet_name='Patients')\n",
    "df\n",
    "df=((df['Language'] == 'Spanish') & (df['Gender'] == 'Male') & (df['Race'] == 'White')).sum()\n",
    "print(df)"
   ]
  },
  {
   "cell_type": "code",
   "execution_count": null,
   "id": "35931b69",
   "metadata": {},
   "outputs": [],
   "source": []
  },
  {
   "cell_type": "code",
   "execution_count": null,
   "id": "19d80d6e",
   "metadata": {},
   "outputs": [],
   "source": []
  },
  {
   "cell_type": "code",
   "execution_count": null,
   "id": "cdb338ab",
   "metadata": {},
   "outputs": [],
   "source": []
  },
  {
   "cell_type": "markdown",
   "id": "2492b97c",
   "metadata": {},
   "source": [
    "## Q 29. Calculate average LOS."
   ]
  },
  {
   "cell_type": "code",
   "execution_count": 13,
   "id": "d7ff931a",
   "metadata": {},
   "outputs": [
    {
     "name": "stdout",
     "output_type": "stream",
     "text": [
      "9.534722222222221\n"
     ]
    }
   ],
   "source": [
    "patient_sum=df['PatientID'].value_counts(ascending=False)\n",
    "discharge_date=df['DischargeDate'].value_counts(ascending=False)\n",
    "admission_date=df['AdmissionDate'].value_counts(ascending=False)\n",
    "df_Difference=(df['DischargeDate'] - df['AdmissionDate']).dt.days\n",
    "#print(df_Difference.sum())\n",
    "#print(patient_sum.sum())\n",
    "print(df_Difference.sum() / patient_sum.sum())"
   ]
  },
  {
   "cell_type": "code",
   "execution_count": null,
   "id": "59f969a4",
   "metadata": {},
   "outputs": [],
   "source": [
    "\n"
   ]
  },
  {
   "cell_type": "markdown",
   "id": "2090b510",
   "metadata": {},
   "source": [
    "## Q 30. Which patient id has most entries in readmission registry."
   ]
  },
  {
   "cell_type": "code",
   "execution_count": 103,
   "id": "1c053619",
   "metadata": {},
   "outputs": [
    {
     "data": {
      "text/plain": [
       "1"
      ]
     },
     "execution_count": 103,
     "metadata": {},
     "output_type": "execute_result"
    }
   ],
   "source": [
    "df=pd.read_excel('HospitalDatabase.xlsx', 'ReAdmissionRegistry')\n",
    "df\n",
    "df['ReadmissionFlag'].idxmax()"
   ]
  },
  {
   "cell_type": "markdown",
   "id": "b326e897",
   "metadata": {},
   "source": [
    "## Answer: The patient id = 1 has most entries in readmission registry."
   ]
  },
  {
   "cell_type": "code",
   "execution_count": null,
   "id": "7d6f9a54",
   "metadata": {},
   "outputs": [],
   "source": []
  },
  {
   "cell_type": "code",
   "execution_count": null,
   "id": "a17c7251",
   "metadata": {},
   "outputs": [],
   "source": []
  },
  {
   "cell_type": "markdown",
   "id": "87945722",
   "metadata": {},
   "source": [
    "## Q.33 Using a bar chart, which Service had the lowest count of Expected Mortality?"
   ]
  },
  {
   "cell_type": "code",
   "execution_count": 82,
   "id": "668a39ea",
   "metadata": {
    "scrolled": true
   },
   "outputs": [
    {
     "data": {
      "text/plain": [
       "<AxesSubplot:xlabel='Service', ylabel='ExpectedMortality'>"
      ]
     },
     "execution_count": 82,
     "metadata": {},
     "output_type": "execute_result"
    },
    {
     "data": {
      "image/png": "[encoded data removed]",
      "text/plain": [
       "<Figure size 432x288 with 1 Axes>"
      ]
     },
     "metadata": {
      "needs_background": "light"
     },
     "output_type": "display_data"
    }
   ],
   "source": [
    "df=pd.read_excel('HospitalDatabase.xlsx', 'Discharges')\n",
    "df\n",
    "sns.barplot(data = df,x = 'Service',\n",
    "            y = 'ExpectedMortality', estimator=np.cov) "
   ]
  },
  {
   "cell_type": "markdown",
   "id": "3d21b68c",
   "metadata": {},
   "source": [
    "## Answer : Cardiology has the lowest expected mortality."
   ]
  },
  {
   "cell_type": "markdown",
   "id": "9e8e61e5",
   "metadata": {},
   "source": [
    "## Q.34 np.arange(1,31).reshape(6,5) Find the array slicing to get the elements with values 11,12,16,17."
   ]
  },
  {
   "cell_type": "code",
   "execution_count": 90,
   "id": "494ffafc",
   "metadata": {},
   "outputs": [
    {
     "name": "stdout",
     "output_type": "stream",
     "text": [
      "Original arrays: [[ 1  2  3  4  5]\n",
      " [ 6  7  8  9 10]\n",
      " [11 12 13 14 15]\n",
      " [16 17 18 19 20]\n",
      " [21 22 23 24 25]\n",
      " [26 27 28 29 30]]\n"
     ]
    }
   ],
   "source": [
    "arr = np.reshape(np.arange(1,31),(6,5))\n",
    "print('Original arrays:',arr)"
   ]
  },
  {
   "cell_type": "code",
   "execution_count": 91,
   "id": "e65aaea2",
   "metadata": {},
   "outputs": [
    {
     "name": "stdout",
     "output_type": "stream",
     "text": [
      "Sliced elements: [11 12 16 17]\n"
     ]
    }
   ],
   "source": [
    "result = arr[[2,2,3,3],[0,1,0,1]]\n",
    "print('Sliced elements:',result)"
   ]
  },
  {
   "cell_type": "markdown",
   "id": "ae67dc6c",
   "metadata": {},
   "source": [
    "## Q 35. np.arange(1,31).reshape(6,5), find array slicing for elements 2,8,14,20."
   ]
  },
  {
   "cell_type": "code",
   "execution_count": 104,
   "id": "371a3bd6",
   "metadata": {},
   "outputs": [
    {
     "name": "stdout",
     "output_type": "stream",
     "text": [
      "Original arrays: [[ 1  2  3  4  5]\n",
      " [ 6  7  8  9 10]\n",
      " [11 12 13 14 15]\n",
      " [16 17 18 19 20]\n",
      " [21 22 23 24 25]\n",
      " [26 27 28 29 30]]\n"
     ]
    }
   ],
   "source": [
    "arr=np.reshape(np.arange(1,31),(6,5))\n",
    "print('Original arrays:',arr)"
   ]
  },
  {
   "cell_type": "code",
   "execution_count": 105,
   "id": "0796bfbb",
   "metadata": {},
   "outputs": [
    {
     "name": "stdout",
     "output_type": "stream",
     "text": [
      "Sliced elements: [ 2  8 14 20]\n"
     ]
    }
   ],
   "source": [
    "result=arr[[0,1,2,3],[1,2,3,4]]\n",
    "print('Sliced elements:',result)"
   ]
  },
  {
   "cell_type": "markdown",
   "id": "73c41dcf",
   "metadata": {},
   "source": [
    "## Q 36.Create a correlation matrix on EDVisits."
   ]
  },
  {
   "cell_type": "code",
   "execution_count": 192,
   "id": "495c5372",
   "metadata": {},
   "outputs": [
    {
     "data": {
      "text/html": [
       "<div>\n",
       "<style scoped>\n",
       "    .dataframe tbody tr th:only-of-type {\n",
       "        vertical-align: middle;\n",
       "    }\n",
       "\n",
       "    .dataframe tbody tr th {\n",
       "        vertical-align: top;\n",
       "    }\n",
       "\n",
       "    .dataframe thead th {\n",
       "        text-align: right;\n",
       "    }\n",
       "</style>\n",
       "<table border=\"1\" class=\"dataframe\">\n",
       "  <thead>\n",
       "    <tr style=\"text-align: right;\">\n",
       "      <th></th>\n",
       "      <th>EDVisitID</th>\n",
       "      <th>PatientID</th>\n",
       "      <th>Acuity</th>\n",
       "    </tr>\n",
       "  </thead>\n",
       "  <tbody>\n",
       "    <tr>\n",
       "      <th>EDVisitID</th>\n",
       "      <td>1.000</td>\n",
       "      <td>0.975</td>\n",
       "      <td>0.006</td>\n",
       "    </tr>\n",
       "    <tr>\n",
       "      <th>PatientID</th>\n",
       "      <td>0.975</td>\n",
       "      <td>1.000</td>\n",
       "      <td>0.004</td>\n",
       "    </tr>\n",
       "    <tr>\n",
       "      <th>Acuity</th>\n",
       "      <td>0.006</td>\n",
       "      <td>0.004</td>\n",
       "      <td>1.000</td>\n",
       "    </tr>\n",
       "  </tbody>\n",
       "</table>\n",
       "</div>"
      ],
      "text/plain": [
       "           EDVisitID  PatientID  Acuity\n",
       "EDVisitID      1.000      0.975   0.006\n",
       "PatientID      0.975      1.000   0.004\n",
       "Acuity         0.006      0.004   1.000"
      ]
     },
     "execution_count": 192,
     "metadata": {},
     "output_type": "execute_result"
    }
   ],
   "source": [
    "df=pd.read_excel('HospitalDatabase.xlsx', 'EDVisits')\n",
    "df\n",
    "df.corr().round(3)"
   ]
  },
  {
   "cell_type": "code",
   "execution_count": 125,
   "id": "02022f2e",
   "metadata": {},
   "outputs": [
    {
     "data": {
      "text/html": [
       "<style type=\"text/css\">\n",
       "#T_7c8f6_row0_col0, #T_7c8f6_row1_col1, #T_7c8f6_row2_col2 {\n",
       "  background-color: #b40426;\n",
       "  color: #f1f1f1;\n",
       "}\n",
       "#T_7c8f6_row0_col1, #T_7c8f6_row1_col0 {\n",
       "  background-color: #bd1f2d;\n",
       "  color: #f1f1f1;\n",
       "}\n",
       "#T_7c8f6_row0_col2, #T_7c8f6_row1_col2, #T_7c8f6_row2_col0, #T_7c8f6_row2_col1 {\n",
       "  background-color: #3b4cc0;\n",
       "  color: #f1f1f1;\n",
       "}\n",
       "</style>\n",
       "<table id=\"T_7c8f6\">\n",
       "  <thead>\n",
       "    <tr>\n",
       "      <th class=\"blank level0\" >&nbsp;</th>\n",
       "      <th id=\"T_7c8f6_level0_col0\" class=\"col_heading level0 col0\" >EDVisitID</th>\n",
       "      <th id=\"T_7c8f6_level0_col1\" class=\"col_heading level0 col1\" >PatientID</th>\n",
       "      <th id=\"T_7c8f6_level0_col2\" class=\"col_heading level0 col2\" >Acuity</th>\n",
       "    </tr>\n",
       "  </thead>\n",
       "  <tbody>\n",
       "    <tr>\n",
       "      <th id=\"T_7c8f6_level0_row0\" class=\"row_heading level0 row0\" >EDVisitID</th>\n",
       "      <td id=\"T_7c8f6_row0_col0\" class=\"data row0 col0\" >1.000000</td>\n",
       "      <td id=\"T_7c8f6_row0_col1\" class=\"data row0 col1\" >0.975477</td>\n",
       "      <td id=\"T_7c8f6_row0_col2\" class=\"data row0 col2\" >0.005813</td>\n",
       "    </tr>\n",
       "    <tr>\n",
       "      <th id=\"T_7c8f6_level0_row1\" class=\"row_heading level0 row1\" >PatientID</th>\n",
       "      <td id=\"T_7c8f6_row1_col0\" class=\"data row1 col0\" >0.975477</td>\n",
       "      <td id=\"T_7c8f6_row1_col1\" class=\"data row1 col1\" >1.000000</td>\n",
       "      <td id=\"T_7c8f6_row1_col2\" class=\"data row1 col2\" >0.003545</td>\n",
       "    </tr>\n",
       "    <tr>\n",
       "      <th id=\"T_7c8f6_level0_row2\" class=\"row_heading level0 row2\" >Acuity</th>\n",
       "      <td id=\"T_7c8f6_row2_col0\" class=\"data row2 col0\" >0.005813</td>\n",
       "      <td id=\"T_7c8f6_row2_col1\" class=\"data row2 col1\" >0.003545</td>\n",
       "      <td id=\"T_7c8f6_row2_col2\" class=\"data row2 col2\" >1.000000</td>\n",
       "    </tr>\n",
       "  </tbody>\n",
       "</table>\n"
      ],
      "text/plain": [
       "<pandas.io.formats.style.Styler at 0x1f0b66043a0>"
      ]
     },
     "execution_count": 125,
     "metadata": {},
     "output_type": "execute_result"
    }
   ],
   "source": [
    "df=pd.read_excel('HospitalDatabase.xlsx', 'EDVisits')\n",
    "df\n",
    "df = df.corr()\n",
    "df.style.background_gradient(cmap='coolwarm')"
   ]
  },
  {
   "cell_type": "markdown",
   "id": "33e33d14",
   "metadata": {},
   "source": [
    "## Q 37. Write a function to print all the upper case letter of a given sentence."
   ]
  },
  {
   "cell_type": "code",
   "execution_count": 115,
   "id": "e7412eb8",
   "metadata": {},
   "outputs": [
    {
     "data": {
      "text/plain": [
       "'HELLO EVERYONE WELCOME TO PYATHON HACKATHON'"
      ]
     },
     "execution_count": 115,
     "metadata": {},
     "output_type": "execute_result"
    }
   ],
   "source": [
    "p= 'Hello everyone welcome to Pyathon Hackathon'\n",
    "p.upper()"
   ]
  },
  {
   "cell_type": "markdown",
   "id": "f0376f7c",
   "metadata": {},
   "source": [
    "## Q 38.Number of patients on 'Transfer' based on primary diagnosis."
   ]
  },
  {
   "cell_type": "code",
   "execution_count": 152,
   "id": "cb738641",
   "metadata": {},
   "outputs": [
    {
     "data": {
      "text/html": [
       "<div>\n",
       "<style scoped>\n",
       "    .dataframe tbody tr th:only-of-type {\n",
       "        vertical-align: middle;\n",
       "    }\n",
       "\n",
       "    .dataframe tbody tr th {\n",
       "        vertical-align: top;\n",
       "    }\n",
       "\n",
       "    .dataframe thead th {\n",
       "        text-align: right;\n",
       "    }\n",
       "</style>\n",
       "<table border=\"1\" class=\"dataframe\">\n",
       "  <thead>\n",
       "    <tr style=\"text-align: right;\">\n",
       "      <th></th>\n",
       "      <th>PrimaryDiagnosis</th>\n",
       "      <th>count</th>\n",
       "    </tr>\n",
       "  </thead>\n",
       "  <tbody>\n",
       "    <tr>\n",
       "      <th>0</th>\n",
       "      <td>AMI</td>\n",
       "      <td>0</td>\n",
       "    </tr>\n",
       "    <tr>\n",
       "      <th>1</th>\n",
       "      <td>Afib</td>\n",
       "      <td>1</td>\n",
       "    </tr>\n",
       "    <tr>\n",
       "      <th>2</th>\n",
       "      <td>Broken Leg</td>\n",
       "      <td>0</td>\n",
       "    </tr>\n",
       "    <tr>\n",
       "      <th>3</th>\n",
       "      <td>Diabetes</td>\n",
       "      <td>7</td>\n",
       "    </tr>\n",
       "    <tr>\n",
       "      <th>4</th>\n",
       "      <td>Fever</td>\n",
       "      <td>0</td>\n",
       "    </tr>\n",
       "    <tr>\n",
       "      <th>5</th>\n",
       "      <td>Flu</td>\n",
       "      <td>2</td>\n",
       "    </tr>\n",
       "    <tr>\n",
       "      <th>6</th>\n",
       "      <td>Heart Failure</td>\n",
       "      <td>9</td>\n",
       "    </tr>\n",
       "    <tr>\n",
       "      <th>7</th>\n",
       "      <td>Hip Fracture</td>\n",
       "      <td>0</td>\n",
       "    </tr>\n",
       "    <tr>\n",
       "      <th>8</th>\n",
       "      <td>Hypertension</td>\n",
       "      <td>0</td>\n",
       "    </tr>\n",
       "    <tr>\n",
       "      <th>9</th>\n",
       "      <td>Kidney Failure</td>\n",
       "      <td>0</td>\n",
       "    </tr>\n",
       "    <tr>\n",
       "      <th>10</th>\n",
       "      <td>Knee Replacement</td>\n",
       "      <td>1</td>\n",
       "    </tr>\n",
       "    <tr>\n",
       "      <th>11</th>\n",
       "      <td>Laceration</td>\n",
       "      <td>1</td>\n",
       "    </tr>\n",
       "    <tr>\n",
       "      <th>12</th>\n",
       "      <td>Migraine</td>\n",
       "      <td>0</td>\n",
       "    </tr>\n",
       "    <tr>\n",
       "      <th>13</th>\n",
       "      <td>Pain</td>\n",
       "      <td>1</td>\n",
       "    </tr>\n",
       "    <tr>\n",
       "      <th>14</th>\n",
       "      <td>Pneumonia</td>\n",
       "      <td>8</td>\n",
       "    </tr>\n",
       "    <tr>\n",
       "      <th>15</th>\n",
       "      <td>Spinal Cord Injury</td>\n",
       "      <td>0</td>\n",
       "    </tr>\n",
       "    <tr>\n",
       "      <th>16</th>\n",
       "      <td>Stroke</td>\n",
       "      <td>9</td>\n",
       "    </tr>\n",
       "  </tbody>\n",
       "</table>\n",
       "</div>"
      ],
      "text/plain": [
       "      PrimaryDiagnosis  count\n",
       "0                  AMI      0\n",
       "1                 Afib      1\n",
       "2           Broken Leg      0\n",
       "3             Diabetes      7\n",
       "4                Fever      0\n",
       "5                  Flu      2\n",
       "6        Heart Failure      9\n",
       "7         Hip Fracture      0\n",
       "8         Hypertension      0\n",
       "9       Kidney Failure      0\n",
       "10    Knee Replacement      1\n",
       "11          Laceration      1\n",
       "12            Migraine      0\n",
       "13                Pain      1\n",
       "14           Pneumonia      8\n",
       "15  Spinal Cord Injury      0\n",
       "16              Stroke      9"
      ]
     },
     "execution_count": 152,
     "metadata": {},
     "output_type": "execute_result"
    }
   ],
   "source": [
    "df=pd.read_excel('HospitalDatabase.xlsx', 'ReAdmissionRegistry')\n",
    "df\n",
    "df.groupby('PrimaryDiagnosis')['DischargeDisposition'].apply(lambda x: (x=='Transfer').sum()).reset_index(name='count')"
   ]
  },
  {
   "cell_type": "markdown",
   "id": "91da4470",
   "metadata": {},
   "source": [
    "## Answer: These are the number of patients on 'Transfer' based on primary diagnosis."
   ]
  },
  {
   "cell_type": "markdown",
   "id": "f913e9be",
   "metadata": {},
   "source": [
    "## Q 39.Get the FirstName, LastName, DateOfBirth of the Patients whose reason for visit is Migraine. Use EDUnique Sheet for reason for visit."
   ]
  },
  {
   "cell_type": "code",
   "execution_count": 175,
   "id": "592ce19a",
   "metadata": {},
   "outputs": [
    {
     "data": {
      "text/html": [
       "<div>\n",
       "<style scoped>\n",
       "    .dataframe tbody tr th:only-of-type {\n",
       "        vertical-align: middle;\n",
       "    }\n",
       "\n",
       "    .dataframe tbody tr th {\n",
       "        vertical-align: top;\n",
       "    }\n",
       "\n",
       "    .dataframe thead th {\n",
       "        text-align: right;\n",
       "    }\n",
       "</style>\n",
       "<table border=\"1\" class=\"dataframe\">\n",
       "  <thead>\n",
       "    <tr style=\"text-align: right;\">\n",
       "      <th></th>\n",
       "      <th>PatientID</th>\n",
       "      <th>FirstName</th>\n",
       "      <th>LastName</th>\n",
       "      <th>DateOfBirth</th>\n",
       "      <th>ReasonForVisit</th>\n",
       "    </tr>\n",
       "  </thead>\n",
       "  <tbody>\n",
       "    <tr>\n",
       "      <th>1</th>\n",
       "      <td>2</td>\n",
       "      <td>Far</td>\n",
       "      <td>Myers</td>\n",
       "      <td>1985-11-15 02:08:42.090</td>\n",
       "      <td>Migraine</td>\n",
       "    </tr>\n",
       "    <tr>\n",
       "      <th>2</th>\n",
       "      <td>3</td>\n",
       "      <td>Devlin</td>\n",
       "      <td>Michael</td>\n",
       "      <td>1976-04-15 02:52:09.762</td>\n",
       "      <td>Migraine</td>\n",
       "    </tr>\n",
       "    <tr>\n",
       "      <th>11</th>\n",
       "      <td>12</td>\n",
       "      <td>Zonnya</td>\n",
       "      <td>Ab</td>\n",
       "      <td>1963-05-23 10:04:33.074</td>\n",
       "      <td>Migraine</td>\n",
       "    </tr>\n",
       "    <tr>\n",
       "      <th>13</th>\n",
       "      <td>14</td>\n",
       "      <td>Gan</td>\n",
       "      <td>Yu</td>\n",
       "      <td>1970-06-02 06:22:54.675</td>\n",
       "      <td>Migraine</td>\n",
       "    </tr>\n",
       "    <tr>\n",
       "      <th>21</th>\n",
       "      <td>22</td>\n",
       "      <td>Joesph</td>\n",
       "      <td>Long</td>\n",
       "      <td>1979-12-04 16:45:56.080</td>\n",
       "      <td>Migraine</td>\n",
       "    </tr>\n",
       "    <tr>\n",
       "      <th>...</th>\n",
       "      <td>...</td>\n",
       "      <td>...</td>\n",
       "      <td>...</td>\n",
       "      <td>...</td>\n",
       "      <td>...</td>\n",
       "    </tr>\n",
       "    <tr>\n",
       "      <th>896</th>\n",
       "      <td>897</td>\n",
       "      <td>Barrows</td>\n",
       "      <td>Coupland</td>\n",
       "      <td>1979-10-31 18:28:35.483</td>\n",
       "      <td>Migraine</td>\n",
       "    </tr>\n",
       "    <tr>\n",
       "      <th>907</th>\n",
       "      <td>908</td>\n",
       "      <td>Knox</td>\n",
       "      <td>Group</td>\n",
       "      <td>1975-08-25 22:27:50.177</td>\n",
       "      <td>Migraine</td>\n",
       "    </tr>\n",
       "    <tr>\n",
       "      <th>909</th>\n",
       "      <td>910</td>\n",
       "      <td>Kuvalis</td>\n",
       "      <td>Coupland</td>\n",
       "      <td>1986-05-23 19:23:27.752</td>\n",
       "      <td>Migraine</td>\n",
       "    </tr>\n",
       "    <tr>\n",
       "      <th>914</th>\n",
       "      <td>915</td>\n",
       "      <td>Jerrilyn</td>\n",
       "      <td>Dyson</td>\n",
       "      <td>1978-01-18 02:41:55.178</td>\n",
       "      <td>Migraine</td>\n",
       "    </tr>\n",
       "    <tr>\n",
       "      <th>923</th>\n",
       "      <td>924</td>\n",
       "      <td>Daniel</td>\n",
       "      <td>Shakesby</td>\n",
       "      <td>1980-11-28 17:57:03.702</td>\n",
       "      <td>Migraine</td>\n",
       "    </tr>\n",
       "  </tbody>\n",
       "</table>\n",
       "<p>116 rows × 5 columns</p>\n",
       "</div>"
      ],
      "text/plain": [
       "     PatientID FirstName  LastName             DateOfBirth ReasonForVisit\n",
       "1            2       Far     Myers 1985-11-15 02:08:42.090       Migraine\n",
       "2            3   Devlin    Michael 1976-04-15 02:52:09.762       Migraine\n",
       "11          12    Zonnya        Ab 1963-05-23 10:04:33.074       Migraine\n",
       "13          14       Gan        Yu 1970-06-02 06:22:54.675       Migraine\n",
       "21          22    Joesph      Long 1979-12-04 16:45:56.080       Migraine\n",
       "..         ...       ...       ...                     ...            ...\n",
       "896        897   Barrows  Coupland 1979-10-31 18:28:35.483       Migraine\n",
       "907        908      Knox     Group 1975-08-25 22:27:50.177       Migraine\n",
       "909        910   Kuvalis  Coupland 1986-05-23 19:23:27.752       Migraine\n",
       "914        915  Jerrilyn     Dyson 1978-01-18 02:41:55.178       Migraine\n",
       "923        924    Daniel  Shakesby 1980-11-28 17:57:03.702       Migraine\n",
       "\n",
       "[116 rows x 5 columns]"
      ]
     },
     "execution_count": 175,
     "metadata": {},
     "output_type": "execute_result"
    }
   ],
   "source": [
    "p=pd.read_excel('HospitalDatabase.xlsx', 'Patients')\n",
    "e=pd.read_excel('HospitalDatabase.xlsx', 'EDUnique')\n",
    "j = p[[\"PatientID\", \"FirstName\",\"LastName\",\"DateOfBirth\"]].merge(e[[\"PatientID\",  \"ReasonForVisit\" ]], on = \"PatientID\", how = \"left\")\n",
    "j.to_excel(\"Results.xlsx\", index = False)\n",
    "j\n",
    "j[j['ReasonForVisit']=='Migraine']"
   ]
  },
  {
   "cell_type": "markdown",
   "id": "0c673788",
   "metadata": {},
   "source": [
    "## Q 40.Plot a graph showing the count of patients for the reason visited the hospital."
   ]
  },
  {
   "cell_type": "code",
   "execution_count": 199,
   "id": "c7629120",
   "metadata": {},
   "outputs": [
    {
     "data": {
      "image/png": "[encoded data removed]",
      "text/plain": [
       "<Figure size 576x360 with 1 Axes>"
      ]
     },
     "metadata": {
      "needs_background": "light"
     },
     "output_type": "display_data"
    }
   ],
   "source": [
    "df=pd.read_excel('HospitalDatabase.xlsx', 'EDVisits')\n",
    "df\n",
    "plt.figure(figsize=(8,5))\n",
    "#sns.countplot(data=df,y='ReasonForVisit')\n",
    "df['ReasonForVisit'].value_counts().plot(kind='bar');"
   ]
  },
  {
   "cell_type": "markdown",
   "id": "5653943e",
   "metadata": {},
   "source": [
    "## Q 40.Find the visit type with maximum 'No Show'."
   ]
  },
  {
   "cell_type": "code",
   "execution_count": null,
   "id": "4917ed40",
   "metadata": {},
   "outputs": [],
   "source": []
  }
 ],
 "metadata": {
  "kernelspec": {
   "display_name": "Python 3 (ipykernel)",
   "language": "python",
   "name": "python3"
  },
  "language_info": {
   "codemirror_mode": {
    "name": "ipython",
    "version": 3
   },
   "file_extension": ".py",
   "mimetype": "text/x-python",
   "name": "python",
   "nbconvert_exporter": "python",
   "pygments_lexer": "ipython3",
   "version": "3.10.5"
  }
 },
 "nbformat": 4,
 "nbformat_minor": 5
}
